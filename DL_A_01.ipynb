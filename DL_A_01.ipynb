{
 "cells": [
  {
   "cell_type": "code",
   "execution_count": 1,
   "id": "b4fe30e1",
   "metadata": {},
   "outputs": [],
   "source": [
    "import pandas as pd\n",
    "import numpy as np\n",
    "import matplotlib.pyplot as plt\n",
    "import seaborn as sns\n",
    "import tensorflow as tf\n",
    "import numpy.random as nr\n",
    "from sklearn.metrics import mean_squared_error\n",
    "from sklearn.model_selection import train_test_split, cross_val_score\n",
    "from sklearn.preprocessing import MinMaxScaler\n",
    "from tensorflow.python.keras.models import Sequential\n",
    "from tensorflow.python.keras.layers import Dense\n",
    "import warnings \n",
    "warnings.filterwarnings('ignore')"
   ]
  },
  {
   "cell_type": "code",
   "execution_count": 2,
   "id": "11d5e50c",
   "metadata": {
    "scrolled": true
   },
   "outputs": [
    {
     "data": {
      "text/html": [
       "<div>\n",
       "<style scoped>\n",
       "    .dataframe tbody tr th:only-of-type {\n",
       "        vertical-align: middle;\n",
       "    }\n",
       "\n",
       "    .dataframe tbody tr th {\n",
       "        vertical-align: top;\n",
       "    }\n",
       "\n",
       "    .dataframe thead th {\n",
       "        text-align: right;\n",
       "    }\n",
       "</style>\n",
       "<table border=\"1\" class=\"dataframe\">\n",
       "  <thead>\n",
       "    <tr style=\"text-align: right;\">\n",
       "      <th></th>\n",
       "      <th>Temperature (T)</th>\n",
       "      <th>Exhaust Vacuum (V)</th>\n",
       "      <th>Ambient Pressure (AP)</th>\n",
       "      <th>Relative Humidity (RH)</th>\n",
       "      <th>Electrical Energy Output (EP)</th>\n",
       "    </tr>\n",
       "  </thead>\n",
       "  <tbody>\n",
       "    <tr>\n",
       "      <th>0</th>\n",
       "      <td>14.96</td>\n",
       "      <td>41.76</td>\n",
       "      <td>1024.07</td>\n",
       "      <td>73.17</td>\n",
       "      <td>463.26</td>\n",
       "    </tr>\n",
       "    <tr>\n",
       "      <th>1</th>\n",
       "      <td>25.18</td>\n",
       "      <td>62.96</td>\n",
       "      <td>1020.04</td>\n",
       "      <td>59.08</td>\n",
       "      <td>444.37</td>\n",
       "    </tr>\n",
       "    <tr>\n",
       "      <th>2</th>\n",
       "      <td>5.11</td>\n",
       "      <td>39.40</td>\n",
       "      <td>1012.16</td>\n",
       "      <td>92.14</td>\n",
       "      <td>488.56</td>\n",
       "    </tr>\n",
       "    <tr>\n",
       "      <th>3</th>\n",
       "      <td>20.86</td>\n",
       "      <td>57.32</td>\n",
       "      <td>1010.24</td>\n",
       "      <td>76.64</td>\n",
       "      <td>446.48</td>\n",
       "    </tr>\n",
       "    <tr>\n",
       "      <th>4</th>\n",
       "      <td>10.82</td>\n",
       "      <td>37.50</td>\n",
       "      <td>1009.23</td>\n",
       "      <td>96.62</td>\n",
       "      <td>473.90</td>\n",
       "    </tr>\n",
       "    <tr>\n",
       "      <th>...</th>\n",
       "      <td>...</td>\n",
       "      <td>...</td>\n",
       "      <td>...</td>\n",
       "      <td>...</td>\n",
       "      <td>...</td>\n",
       "    </tr>\n",
       "    <tr>\n",
       "      <th>47835</th>\n",
       "      <td>15.12</td>\n",
       "      <td>48.92</td>\n",
       "      <td>1011.80</td>\n",
       "      <td>72.93</td>\n",
       "      <td>462.59</td>\n",
       "    </tr>\n",
       "    <tr>\n",
       "      <th>47836</th>\n",
       "      <td>33.41</td>\n",
       "      <td>77.95</td>\n",
       "      <td>1010.30</td>\n",
       "      <td>59.72</td>\n",
       "      <td>432.90</td>\n",
       "    </tr>\n",
       "    <tr>\n",
       "      <th>47837</th>\n",
       "      <td>15.99</td>\n",
       "      <td>43.34</td>\n",
       "      <td>1014.20</td>\n",
       "      <td>78.66</td>\n",
       "      <td>465.96</td>\n",
       "    </tr>\n",
       "    <tr>\n",
       "      <th>47838</th>\n",
       "      <td>17.65</td>\n",
       "      <td>59.87</td>\n",
       "      <td>1018.58</td>\n",
       "      <td>94.65</td>\n",
       "      <td>450.93</td>\n",
       "    </tr>\n",
       "    <tr>\n",
       "      <th>47839</th>\n",
       "      <td>23.68</td>\n",
       "      <td>51.30</td>\n",
       "      <td>1011.86</td>\n",
       "      <td>71.24</td>\n",
       "      <td>451.67</td>\n",
       "    </tr>\n",
       "  </tbody>\n",
       "</table>\n",
       "<p>47840 rows × 5 columns</p>\n",
       "</div>"
      ],
      "text/plain": [
       "       Temperature (T)  Exhaust Vacuum (V)  Ambient Pressure (AP)   \n",
       "0                14.96               41.76                1024.07  \\\n",
       "1                25.18               62.96                1020.04   \n",
       "2                 5.11               39.40                1012.16   \n",
       "3                20.86               57.32                1010.24   \n",
       "4                10.82               37.50                1009.23   \n",
       "...                ...                 ...                    ...   \n",
       "47835            15.12               48.92                1011.80   \n",
       "47836            33.41               77.95                1010.30   \n",
       "47837            15.99               43.34                1014.20   \n",
       "47838            17.65               59.87                1018.58   \n",
       "47839            23.68               51.30                1011.86   \n",
       "\n",
       "       Relative Humidity (RH)  Electrical Energy Output (EP)  \n",
       "0                       73.17                         463.26  \n",
       "1                       59.08                         444.37  \n",
       "2                       92.14                         488.56  \n",
       "3                       76.64                         446.48  \n",
       "4                       96.62                         473.90  \n",
       "...                       ...                            ...  \n",
       "47835                   72.93                         462.59  \n",
       "47836                   59.72                         432.90  \n",
       "47837                   78.66                         465.96  \n",
       "47838                   94.65                         450.93  \n",
       "47839                   71.24                         451.67  \n",
       "\n",
       "[47840 rows x 5 columns]"
      ]
     },
     "execution_count": 2,
     "metadata": {},
     "output_type": "execute_result"
    }
   ],
   "source": [
    "df = pd.read_csv(r'power_plant_data.csv')\n",
    "df"
   ]
  },
  {
   "cell_type": "code",
   "execution_count": 3,
   "id": "5ed99e03",
   "metadata": {},
   "outputs": [
    {
     "data": {
      "text/plain": [
       "(47840, 5)"
      ]
     },
     "execution_count": 3,
     "metadata": {},
     "output_type": "execute_result"
    }
   ],
   "source": [
    "df.shape "
   ]
  },
  {
   "cell_type": "code",
   "execution_count": 4,
   "id": "01b0a2d3",
   "metadata": {},
   "outputs": [
    {
     "name": "stdout",
     "output_type": "stream",
     "text": [
      "<class 'pandas.core.frame.DataFrame'>\n",
      "RangeIndex: 47840 entries, 0 to 47839\n",
      "Data columns (total 5 columns):\n",
      " #   Column                         Non-Null Count  Dtype  \n",
      "---  ------                         --------------  -----  \n",
      " 0   Temperature (T)                47840 non-null  float64\n",
      " 1   Exhaust Vacuum (V)             47840 non-null  float64\n",
      " 2   Ambient Pressure (AP)          47840 non-null  float64\n",
      " 3   Relative Humidity (RH)         47840 non-null  float64\n",
      " 4   Electrical Energy Output (EP)  47840 non-null  float64\n",
      "dtypes: float64(5)\n",
      "memory usage: 1.8 MB\n"
     ]
    }
   ],
   "source": [
    "df.info()"
   ]
  },
  {
   "cell_type": "code",
   "execution_count": 5,
   "id": "3fe19a52",
   "metadata": {},
   "outputs": [
    {
     "data": {
      "text/plain": [
       "Temperature (T)                  0\n",
       "Exhaust Vacuum (V)               0\n",
       "Ambient Pressure (AP)            0\n",
       "Relative Humidity (RH)           0\n",
       "Electrical Energy Output (EP)    0\n",
       "dtype: int64"
      ]
     },
     "execution_count": 5,
     "metadata": {},
     "output_type": "execute_result"
    }
   ],
   "source": [
    "df.isna().sum()"
   ]
  },
  {
   "cell_type": "code",
   "execution_count": 6,
   "id": "fbe43e48",
   "metadata": {},
   "outputs": [],
   "source": [
    "x = df.drop('Electrical Energy Output (EP)', axis = 1)\n",
    "y = df['Electrical Energy Output (EP)']"
   ]
  },
  {
   "cell_type": "code",
   "execution_count": 7,
   "id": "90ee0191",
   "metadata": {},
   "outputs": [],
   "source": [
    "X_train, X_test, y_train, y_test = train_test_split(x, y)"
   ]
  },
  {
   "cell_type": "code",
   "execution_count": 8,
   "id": "9052475f",
   "metadata": {},
   "outputs": [],
   "source": [
    "X_train = X_train.astype(float)\n",
    "X_test = X_test.astype(float)\n",
    "y_train = y_train.astype(float)\n",
    "y_test = y_test.astype(float)"
   ]
  },
  {
   "cell_type": "code",
   "execution_count": 9,
   "id": "926e4beb",
   "metadata": {},
   "outputs": [],
   "source": [
    "X_train = tf.convert_to_tensor(X_train)\n",
    "X_test = tf.convert_to_tensor(X_test)\n",
    "y_train = tf.convert_to_tensor(y_train)\n",
    "y_test = tf.convert_to_tensor(y_test)"
   ]
  },
  {
   "cell_type": "code",
   "execution_count": 10,
   "id": "2b584d3d",
   "metadata": {},
   "outputs": [
    {
     "name": "stdout",
     "output_type": "stream",
     "text": [
      "MinMaxScaler()\n",
      "MinMaxScaler()\n",
      "MinMaxScaler()\n",
      "MinMaxScaler()\n"
     ]
    }
   ],
   "source": [
    "y_train = np.reshape(y_train, (-1,1))\n",
    "y_test = np.reshape(y_test, (-1,1))\n",
    "\n",
    "scaler_x = MinMaxScaler()\n",
    "scaler_y = MinMaxScaler()\n",
    "\n",
    "print(scaler_x.fit(X_train))\n",
    "xtrain_scale = scaler_x.transform(X_train)\n",
    "print(scaler_x.fit(X_test))\n",
    "xtest_scale = scaler_x.transform(X_test)\n",
    "\n",
    "print(scaler_y.fit(y_train))\n",
    "ytrain_scale = scaler_y.transform(y_train)\n",
    "print(scaler_y.fit(y_test))\n",
    "ytest_scale = scaler_y.transform(y_test)"
   ]
  },
  {
   "cell_type": "code",
   "execution_count": 25,
   "id": "f0553586",
   "metadata": {},
   "outputs": [
    {
     "name": "stdout",
     "output_type": "stream",
     "text": [
      "Model: \"sequential_2\"\n",
      "_________________________________________________________________\n",
      "Layer (type)                 Output Shape              Param #   \n",
      "=================================================================\n",
      "dense_6 (Dense)              (None, 12)                60        \n",
      "_________________________________________________________________\n",
      "dense_7 (Dense)              (None, 8)                 104       \n",
      "_________________________________________________________________\n",
      "dense_8 (Dense)              (None, 1)                 9         \n",
      "=================================================================\n",
      "Total params: 173\n",
      "Trainable params: 173\n",
      "Non-trainable params: 0\n",
      "_________________________________________________________________\n"
     ]
    }
   ],
   "source": [
    "model = Sequential()\n",
    "model.add(Dense(12, input_dim = 4, activation = 'relu'))\n",
    "model.add(Dense(8, activation = 'relu'))\n",
    "model.add(Dense(1, activation = 'linear'))\n",
    "model.summary()"
   ]
  },
  {
   "cell_type": "code",
   "execution_count": 26,
   "id": "e65af9ab",
   "metadata": {},
   "outputs": [],
   "source": [
    "model.compile(loss = 'mse', \n",
    "              optimizer = 'adam', \n",
    "              metrics = ['mse','mae'])"
   ]
  },
  {
   "cell_type": "code",
   "execution_count": 27,
   "id": "564750da",
   "metadata": {
    "scrolled": false
   },
   "outputs": [
    {
     "name": "stdout",
     "output_type": "stream",
     "text": [
      "Epoch 1/4\n",
      "225/225 [==============================] - 1s 3ms/step - loss: 0.0664 - mse: 0.0664 - mae: 0.1842 - val_loss: 0.0102 - val_mse: 0.0102 - val_mae: 0.0797\n",
      "Epoch 2/4\n",
      "225/225 [==============================] - 0s 2ms/step - loss: 0.0085 - mse: 0.0085 - mae: 0.0721 - val_loss: 0.0076 - val_mse: 0.0076 - val_mae: 0.0679\n",
      "Epoch 3/4\n",
      "225/225 [==============================] - 0s 2ms/step - loss: 0.0065 - mse: 0.0065 - mae: 0.0631 - val_loss: 0.0061 - val_mse: 0.0061 - val_mae: 0.0601\n",
      "Epoch 4/4\n",
      "225/225 [==============================] - 0s 2ms/step - loss: 0.0051 - mse: 0.0051 - mae: 0.0558 - val_loss: 0.0047 - val_mse: 0.0047 - val_mae: 0.0534\n"
     ]
    }
   ],
   "source": [
    "nr.seed(9898)\n",
    "tf.random.set_seed(9777)\n",
    "history = model.fit(xtrain_scale, \n",
    "                    ytrain_scale, \n",
    "                    epochs = 4, \n",
    "                    batch_size = 128,\n",
    "                    validation_split = 0.2)"
   ]
  },
  {
   "cell_type": "code",
   "execution_count": 28,
   "id": "fbf3bc66",
   "metadata": {},
   "outputs": [
    {
     "name": "stdout",
     "output_type": "stream",
     "text": [
      "374/374 [==============================] - 0s 1ms/step - loss: 0.0048 - mse: 0.0048 - mae: 0.0540\n"
     ]
    },
    {
     "data": {
      "text/plain": [
       "[0.004801660776138306, 0.004801660776138306, 0.054015904664993286]"
      ]
     },
     "execution_count": 28,
     "metadata": {},
     "output_type": "execute_result"
    }
   ],
   "source": [
    "model.evaluate(xtest_scale, ytest_scale)"
   ]
  },
  {
   "cell_type": "code",
   "execution_count": 29,
   "id": "c836c583",
   "metadata": {},
   "outputs": [
    {
     "name": "stdout",
     "output_type": "stream",
     "text": [
      "RMSE for train data:  0.06726207464214502\n"
     ]
    }
   ],
   "source": [
    "pred_train = model.predict(xtrain_scale)\n",
    "print('RMSE for train data: ',np.sqrt(mean_squared_error(ytrain_scale,pred_train)))"
   ]
  },
  {
   "cell_type": "code",
   "execution_count": 30,
   "id": "bdf245ed",
   "metadata": {},
   "outputs": [
    {
     "name": "stdout",
     "output_type": "stream",
     "text": [
      "RMSE for test data:  0.0692940185991009\n"
     ]
    }
   ],
   "source": [
    "pred = model.predict(xtest_scale)\n",
    "print('RMSE for test data: ',np.sqrt(mean_squared_error(ytest_scale,pred)))"
   ]
  },
  {
   "cell_type": "code",
   "execution_count": 24,
   "id": "85ee896a",
   "metadata": {},
   "outputs": [
    {
     "name": "stdout",
     "output_type": "stream",
     "text": [
      "dict_keys(['loss', 'mse', 'mae', 'val_loss', 'val_mse', 'val_mae'])\n"
     ]
    },
    {
     "data": {
      "image/png": "[encoded data removed]",
      "text/plain": [
       "<Figure size 640x480 with 1 Axes>"
      ]
     },
     "metadata": {},
     "output_type": "display_data"
    }
   ],
   "source": [
    "print(history.history.keys())\n",
    "plt.plot(history.history['loss'])\n",
    "plt.plot(history.history['val_loss'])\n",
    "plt.title('model loss')\n",
    "plt.ylabel('loss')\n",
    "plt.xlabel('epoch')\n",
    "plt.legend(['train', 'validation'], loc = 'upper right')\n",
    "plt.show()"
   ]
  },
  {
   "cell_type": "code",
   "execution_count": null,
   "id": "086ca209",
   "metadata": {},
   "outputs": [],
   "source": []
  }
 ],
 "metadata": {
  "kernelspec": {
   "display_name": "Python 3 (ipykernel)",
   "language": "python",
   "name": "python3"
  },
  "language_info": {
   "codemirror_mode": {
    "name": "ipython",
    "version": 3
   },
   "file_extension": ".py",
   "mimetype": "text/x-python",
   "name": "python",
   "nbconvert_exporter": "python",
   "pygments_lexer": "ipython3",
   "version": "3.9.16"
  }
 },
 "nbformat": 4,
 "nbformat_minor": 5
}
