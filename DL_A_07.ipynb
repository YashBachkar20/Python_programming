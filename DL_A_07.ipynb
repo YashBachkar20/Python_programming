{
  "nbformat": 4,
  "nbformat_minor": 0,
  "metadata": {
    "colab": {
      "provenance": []
    },
    "kernelspec": {
      "name": "python3",
      "display_name": "Python 3"
    },
    "language_info": {
      "name": "python"
    }
  },
  "cells": [
    {
      "cell_type": "code",
      "source": [
        "from tensorflow.keras.datasets import imdb\n",
        "from tensorflow.keras.preprocessing import sequence\n",
        "from tensorflow.keras.models import Sequential\n",
        "from tensorflow.keras.layers import LSTM, Embedding, Dense\n",
        "from tensorflow.keras.preprocessing.text import Tokenizer"
      ],
      "metadata": {
        "id": "SOKgOUipeunq"
      },
      "execution_count": 6,
      "outputs": []
    },
    {
      "cell_type": "code",
      "source": [
        "max_features = 20000  # Number of words to consider as features\n",
        "maxlen = 100  # Cut text after this number of words in each review"
      ],
      "metadata": {
        "id": "05WtshPkqVM1"
      },
      "execution_count": 7,
      "outputs": []
    },
    {
      "cell_type": "code",
      "source": [
        "(x_train, y_train), (x_test, y_test) = imdb.load_data(num_words=max_features)"
      ],
      "metadata": {
        "id": "WrQarg2MqVPO"
      },
      "execution_count": 8,
      "outputs": []
    },
    {
      "cell_type": "code",
      "source": [
        "x_train = sequence.pad_sequences(x_train, maxlen=maxlen)\n",
        "x_test = sequence.pad_sequences(x_test, maxlen=maxlen)"
      ],
      "metadata": {
        "id": "OIKhJcoVqVaM"
      },
      "execution_count": 9,
      "outputs": []
    },
    {
      "cell_type": "code",
      "source": [
        "model = Sequential()\n",
        "model.add(Embedding(max_features, 128, input_length=maxlen))\n",
        "model.add(LSTM(64))\n",
        "model.add(Dense(1, activation='sigmoid'))"
      ],
      "metadata": {
        "id": "W0DnuOEOqVgr"
      },
      "execution_count": 10,
      "outputs": []
    },
    {
      "cell_type": "code",
      "source": [
        "model.compile(loss='binary_crossentropy', optimizer='adam', metrics=['accuracy'])"
      ],
      "metadata": {
        "id": "Vz-YMRgOqfQi"
      },
      "execution_count": 11,
      "outputs": []
    },
    {
      "cell_type": "code",
      "source": [
        "batch_size = 32\n",
        "epochs = 5\n",
        "model.fit(x_train, y_train, batch_size=batch_size, epochs=epochs, validation_data=(x_test, y_test))"
      ],
      "metadata": {
        "colab": {
          "base_uri": "https://localhost:8080/"
        },
        "id": "VLtqJliPqfTj",
        "outputId": "4085e729-222e-471a-aaaa-2a0ae05179a4"
      },
      "execution_count": 12,
      "outputs": [
        {
          "output_type": "stream",
          "name": "stdout",
          "text": [
            "Epoch 1/5\n",
            "782/782 [==============================] - 117s 147ms/step - loss: 0.4047 - accuracy: 0.8151 - val_loss: 0.3402 - val_accuracy: 0.8489\n",
            "Epoch 2/5\n",
            "782/782 [==============================] - 108s 138ms/step - loss: 0.2291 - accuracy: 0.9112 - val_loss: 0.3692 - val_accuracy: 0.8434\n",
            "Epoch 3/5\n",
            "782/782 [==============================] - 108s 138ms/step - loss: 0.1407 - accuracy: 0.9490 - val_loss: 0.4487 - val_accuracy: 0.8419\n",
            "Epoch 4/5\n",
            "782/782 [==============================] - 108s 138ms/step - loss: 0.0896 - accuracy: 0.9701 - val_loss: 0.5616 - val_accuracy: 0.8360\n",
            "Epoch 5/5\n",
            "782/782 [==============================] - 107s 137ms/step - loss: 0.0656 - accuracy: 0.9775 - val_loss: 0.5565 - val_accuracy: 0.8211\n"
          ]
        },
        {
          "output_type": "execute_result",
          "data": {
            "text/plain": [
              "<keras.src.callbacks.History at 0x78e61bbc6320>"
            ]
          },
          "metadata": {},
          "execution_count": 12
        }
      ]
    },
    {
      "cell_type": "code",
      "source": [
        "score, accuracy = model.evaluate(x_test, y_test)\n",
        "print(f'Test loss: {score:.4f}, Test accuracy: {accuracy:.4f}')"
      ],
      "metadata": {
        "colab": {
          "base_uri": "https://localhost:8080/"
        },
        "id": "0lYb2pRPqVjf",
        "outputId": "a361a85b-f991-46ac-9cec-4f09d0c67d90"
      },
      "execution_count": 13,
      "outputs": [
        {
          "output_type": "stream",
          "name": "stdout",
          "text": [
            "782/782 [==============================] - 19s 24ms/step - loss: 0.5565 - accuracy: 0.8211\n",
            "Test loss: 0.5565, Test accuracy: 0.8211\n"
          ]
        }
      ]
    },
    {
      "cell_type": "code",
      "source": [
        "text_sequence = [\"This is an example of a movie review.\", \"I really enjoyed this film.\"]"
      ],
      "metadata": {
        "id": "MLN4U_4Rqljk"
      },
      "execution_count": 14,
      "outputs": []
    },
    {
      "cell_type": "code",
      "source": [
        "tokenizer = Tokenizer(num_words=max_features)\n",
        "tokenizer.fit_on_texts(text_sequence)\n",
        "sequences = tokenizer.texts_to_sequences(text_sequence)\n",
        "sequences = sequence.pad_sequences(sequences, maxlen=maxlen)"
      ],
      "metadata": {
        "id": "SBlwjf8BqnxD"
      },
      "execution_count": 15,
      "outputs": []
    },
    {
      "cell_type": "code",
      "source": [
        "predictions = model.predict(sequences)"
      ],
      "metadata": {
        "colab": {
          "base_uri": "https://localhost:8080/"
        },
        "id": "1nqQSwfMqlmS",
        "outputId": "504e8a5a-44c4-4bf5-af37-a3105c26ff6f"
      },
      "execution_count": 16,
      "outputs": [
        {
          "output_type": "stream",
          "name": "stdout",
          "text": [
            "1/1 [==============================] - 0s 437ms/step\n"
          ]
        }
      ]
    },
    {
      "cell_type": "code",
      "source": [
        "for i, prediction in enumerate(predictions):\n",
        "    sentiment = \"positive\" if prediction >= 0.5 else \"negative\"\n",
        "    print(f\"Review {i + 1} prediction: {prediction[0]:.4f} (Sentiment: {sentiment})\")"
      ],
      "metadata": {
        "colab": {
          "base_uri": "https://localhost:8080/"
        },
        "id": "nGtzkfU8qrTz",
        "outputId": "96c32af6-5cb7-45fe-9779-ade8584dbf89"
      },
      "execution_count": 17,
      "outputs": [
        {
          "output_type": "stream",
          "name": "stdout",
          "text": [
            "Review 1 prediction: 0.6816 (Sentiment: positive)\n",
            "Review 2 prediction: 0.8959 (Sentiment: positive)\n"
          ]
        }
      ]
    }
  ]
}