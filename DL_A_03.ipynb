{
 "cells": [
  {
   "cell_type": "code",
   "execution_count": null,
   "metadata": {
    "id": "t7NsMSjlMimf"
   },
   "outputs": [],
   "source": [
    "import numpy as np\n",
    "from keras.datasets import cifar10\n",
    "import matplotlib.pyplot as plt\n",
    "import seaborn as sns\n",
    "from keras.utils import to_categorical\n",
    "from keras.callbacks import ModelCheckpoint, EarlyStopping\n",
    "import warnings\n",
    "warnings.filterwarnings('ignore')"
   ]
  },
  {
   "cell_type": "code",
   "execution_count": null,
   "metadata": {
    "colab": {
     "base_uri": "https://localhost:8080/"
    },
    "id": "4sBIsbV4M3iK",
    "outputId": "54b1c1aa-6c60-490e-9e99-52c1d80a71d2"
   },
   "outputs": [
    {
     "name": "stdout",
     "output_type": "stream",
     "text": [
      "Downloading data from https://www.cs.toronto.edu/~kriz/cifar-10-python.tar.gz\n",
      "170498071/170498071 [==============================] - 2s 0us/step\n"
     ]
    }
   ],
   "source": [
    "(x_train, y_train), (x_test, y_test) = cifar10.load_data()"
   ]
  },
  {
   "cell_type": "code",
   "execution_count": null,
   "metadata": {
    "colab": {
     "base_uri": "https://localhost:8080/"
    },
    "id": "fNCt3dMiM3no",
    "outputId": "59678e22-689a-43ae-b305-e1e98f01c34d"
   },
   "outputs": [
    {
     "data": {
      "text/plain": [
       "((50000, 32, 32, 3), (50000, 1), (10000, 32, 32, 3), (10000, 1))"
      ]
     },
     "execution_count": 3,
     "metadata": {},
     "output_type": "execute_result"
    }
   ],
   "source": [
    "x_train.shape, y_train.shape, x_test.shape, y_test.shape"
   ]
  },
  {
   "cell_type": "code",
   "execution_count": null,
   "metadata": {
    "id": "K1lZnnRKM3qN"
   },
   "outputs": [],
   "source": [
    "x_train_flattened = x_train.reshape((x_train.shape[0], -1)).astype('float32') / 255\n",
    "x_test_flattened = x_test.reshape((x_test.shape[0], -1)).astype('float32') / 255"
   ]
  },
  {
   "cell_type": "code",
   "execution_count": null,
   "metadata": {
    "id": "7ziY9DKvM3s5"
   },
   "outputs": [],
   "source": [
    "y_train = to_categorical(y_train)\n",
    "y_test = to_categorical(y_test)"
   ]
  },
  {
   "cell_type": "code",
   "execution_count": null,
   "metadata": {
    "id": "c0_FKZ2qM3xq"
   },
   "outputs": [],
   "source": [
    "from keras.models import Sequential\n",
    "from keras.layers import Dense, Dropout\n",
    "from keras.regularizers import l2"
   ]
  },
  {
   "cell_type": "code",
   "execution_count": null,
   "metadata": {
    "id": "xBqWt0VkNDUh"
   },
   "outputs": [],
   "source": [
    "model = Sequential()\n",
    "model.add(Dense(412, activation='relu', input_shape=(32*32*3, ), kernel_regularizer=l2(0.0001)))\n",
    "model.add(Dropout(0.3))\n",
    "model.add(Dense(256, activation='relu', kernel_regularizer=l2(0.0001)))\n",
    "model.add(Dropout(0.3))\n",
    "model.add(Dense(10, activation='softmax'))"
   ]
  },
  {
   "cell_type": "code",
   "execution_count": null,
   "metadata": {
    "colab": {
     "base_uri": "https://localhost:8080/"
    },
    "id": "Rmu3Vuc_NDXJ",
    "outputId": "23714737-20b9-456b-e589-167be8c9332d"
   },
   "outputs": [
    {
     "name": "stdout",
     "output_type": "stream",
     "text": [
      "Model: \"sequential\"\n",
      "_________________________________________________________________\n",
      " Layer (type)                Output Shape              Param #   \n",
      "=================================================================\n",
      " dense (Dense)               (None, 412)               1266076   \n",
      "                                                                 \n",
      " dropout (Dropout)           (None, 412)               0         \n",
      "                                                                 \n",
      " dense_1 (Dense)             (None, 256)               105728    \n",
      "                                                                 \n",
      " dropout_1 (Dropout)         (None, 256)               0         \n",
      "                                                                 \n",
      " dense_2 (Dense)             (None, 10)                2570      \n",
      "                                                                 \n",
      "=================================================================\n",
      "Total params: 1,374,374\n",
      "Trainable params: 1,374,374\n",
      "Non-trainable params: 0\n",
      "_________________________________________________________________\n"
     ]
    }
   ],
   "source": [
    "model.summary()"
   ]
  },
  {
   "cell_type": "code",
   "execution_count": null,
   "metadata": {
    "id": "Z6p1xHQ4M36J"
   },
   "outputs": [],
   "source": [
    "model.compile(loss = 'categorical_crossentropy',\n",
    "              optimizer = 'sgd',\n",
    "              metrics = ['accuracy'])"
   ]
  },
  {
   "cell_type": "code",
   "execution_count": null,
   "metadata": {
    "id": "qhYJpEVD9ays"
   },
   "outputs": [],
   "source": [
    "ckpt_model = 'cifar10.best.hdf5'\n",
    "checkpoint = ModelCheckpoint(ckpt_model,\n",
    "                             monitor = 'val_accuracy',\n",
    "                             verbose = 1,\n",
    "                             save_best_only = True,\n",
    "                             mode = 'max')\n",
    "early_stopping = EarlyStopping(patience = 5,\n",
    "                               monitor = 'val_loss',\n",
    "                               restore_best_weights = True)\n",
    "callbacks_list = [checkpoint, early_stopping]"
   ]
  },
  {
   "cell_type": "code",
   "execution_count": null,
   "metadata": {
    "colab": {
     "base_uri": "https://localhost:8080/"
    },
    "id": "7EsX3OclM38b",
    "outputId": "b358b879-a453-44c3-fe3b-cc018a2b9dc5"
   },
   "outputs": [
    {
     "name": "stdout",
     "output_type": "stream",
     "text": [
      "Starting training...\n",
      "Epoch 1/100\n",
      "1389/1389 [==============================] - ETA: 0s - loss: 2.0918 - accuracy: 0.2783\n",
      "Epoch 1: val_accuracy improved from -inf to 0.37560, saving model to cifar10.best.hdf5\n",
      "1389/1389 [==============================] - 37s 25ms/step - loss: 2.0918 - accuracy: 0.2783 - val_loss: 1.8913 - val_accuracy: 0.3756\n",
      "Epoch 2/100\n",
      "1388/1389 [============================>.] - ETA: 0s - loss: 1.9197 - accuracy: 0.3503\n",
      "Epoch 2: val_accuracy improved from 0.37560 to 0.39150, saving model to cifar10.best.hdf5\n",
      "1389/1389 [==============================] - 24s 17ms/step - loss: 1.9197 - accuracy: 0.3503 - val_loss: 1.8108 - val_accuracy: 0.3915\n",
      "Epoch 3/100\n",
      "1386/1389 [============================>.] - ETA: 0s - loss: 1.8495 - accuracy: 0.3766\n",
      "Epoch 3: val_accuracy improved from 0.39150 to 0.41100, saving model to cifar10.best.hdf5\n",
      "1389/1389 [==============================] - 27s 19ms/step - loss: 1.8494 - accuracy: 0.3767 - val_loss: 1.7531 - val_accuracy: 0.4110\n",
      "Epoch 4/100\n",
      "1388/1389 [============================>.] - ETA: 0s - loss: 1.8023 - accuracy: 0.3954\n",
      "Epoch 4: val_accuracy improved from 0.41100 to 0.43640, saving model to cifar10.best.hdf5\n",
      "1389/1389 [==============================] - 26s 19ms/step - loss: 1.8023 - accuracy: 0.3953 - val_loss: 1.6992 - val_accuracy: 0.4364\n",
      "Epoch 5/100\n",
      "1388/1389 [============================>.] - ETA: 0s - loss: 1.7634 - accuracy: 0.4138\n",
      "Epoch 5: val_accuracy improved from 0.43640 to 0.44930, saving model to cifar10.best.hdf5\n",
      "1389/1389 [==============================] - 25s 18ms/step - loss: 1.7631 - accuracy: 0.4139 - val_loss: 1.6664 - val_accuracy: 0.4493\n",
      "Epoch 6/100\n",
      "1389/1389 [==============================] - ETA: 0s - loss: 1.7356 - accuracy: 0.4231\n",
      "Epoch 6: val_accuracy improved from 0.44930 to 0.45950, saving model to cifar10.best.hdf5\n",
      "1389/1389 [==============================] - 26s 18ms/step - loss: 1.7356 - accuracy: 0.4231 - val_loss: 1.6380 - val_accuracy: 0.4595\n",
      "Epoch 7/100\n",
      "1389/1389 [==============================] - ETA: 0s - loss: 1.7079 - accuracy: 0.4295\n",
      "Epoch 7: val_accuracy improved from 0.45950 to 0.47010, saving model to cifar10.best.hdf5\n",
      "1389/1389 [==============================] - 24s 18ms/step - loss: 1.7079 - accuracy: 0.4295 - val_loss: 1.6199 - val_accuracy: 0.4701\n",
      "Epoch 8/100\n",
      "1386/1389 [============================>.] - ETA: 0s - loss: 1.6845 - accuracy: 0.4390\n",
      "Epoch 8: val_accuracy improved from 0.47010 to 0.47650, saving model to cifar10.best.hdf5\n",
      "1389/1389 [==============================] - 25s 18ms/step - loss: 1.6846 - accuracy: 0.4388 - val_loss: 1.5968 - val_accuracy: 0.4765\n",
      "Epoch 9/100\n",
      "1388/1389 [============================>.] - ETA: 0s - loss: 1.6603 - accuracy: 0.4479\n",
      "Epoch 9: val_accuracy improved from 0.47650 to 0.48170, saving model to cifar10.best.hdf5\n",
      "1389/1389 [==============================] - 24s 17ms/step - loss: 1.6604 - accuracy: 0.4478 - val_loss: 1.5877 - val_accuracy: 0.4817\n",
      "Epoch 10/100\n",
      "1388/1389 [============================>.] - ETA: 0s - loss: 1.6451 - accuracy: 0.4527\n",
      "Epoch 10: val_accuracy did not improve from 0.48170\n",
      "1389/1389 [==============================] - 25s 18ms/step - loss: 1.6452 - accuracy: 0.4526 - val_loss: 1.5990 - val_accuracy: 0.4694\n",
      "Epoch 11/100\n",
      "1386/1389 [============================>.] - ETA: 0s - loss: 1.6240 - accuracy: 0.4596\n",
      "Epoch 11: val_accuracy improved from 0.48170 to 0.48270, saving model to cifar10.best.hdf5\n",
      "1389/1389 [==============================] - 26s 18ms/step - loss: 1.6236 - accuracy: 0.4597 - val_loss: 1.5575 - val_accuracy: 0.4827\n",
      "Epoch 12/100\n",
      "1389/1389 [==============================] - ETA: 0s - loss: 1.6059 - accuracy: 0.4674\n",
      "Epoch 12: val_accuracy improved from 0.48270 to 0.49750, saving model to cifar10.best.hdf5\n",
      "1389/1389 [==============================] - 26s 18ms/step - loss: 1.6059 - accuracy: 0.4674 - val_loss: 1.5311 - val_accuracy: 0.4975\n",
      "Epoch 13/100\n",
      "1386/1389 [============================>.] - ETA: 0s - loss: 1.5950 - accuracy: 0.4694\n",
      "Epoch 13: val_accuracy did not improve from 0.49750\n",
      "1389/1389 [==============================] - 26s 19ms/step - loss: 1.5946 - accuracy: 0.4695 - val_loss: 1.5492 - val_accuracy: 0.4836\n",
      "Epoch 14/100\n",
      "1388/1389 [============================>.] - ETA: 0s - loss: 1.5841 - accuracy: 0.4733\n",
      "Epoch 14: val_accuracy did not improve from 0.49750\n",
      "1389/1389 [==============================] - 26s 19ms/step - loss: 1.5840 - accuracy: 0.4733 - val_loss: 1.5357 - val_accuracy: 0.4850\n",
      "Epoch 15/100\n",
      "1388/1389 [============================>.] - ETA: 0s - loss: 1.5670 - accuracy: 0.4793\n",
      "Epoch 15: val_accuracy improved from 0.49750 to 0.50600, saving model to cifar10.best.hdf5\n",
      "1389/1389 [==============================] - 25s 18ms/step - loss: 1.5668 - accuracy: 0.4794 - val_loss: 1.5084 - val_accuracy: 0.5060\n",
      "Epoch 16/100\n",
      "1387/1389 [============================>.] - ETA: 0s - loss: 1.5567 - accuracy: 0.4814\n",
      "Epoch 16: val_accuracy did not improve from 0.50600\n",
      "1389/1389 [==============================] - 25s 18ms/step - loss: 1.5568 - accuracy: 0.4815 - val_loss: 1.5353 - val_accuracy: 0.4913\n",
      "Epoch 17/100\n",
      "1388/1389 [============================>.] - ETA: 0s - loss: 1.5434 - accuracy: 0.4865\n",
      "Epoch 17: val_accuracy did not improve from 0.50600\n",
      "1389/1389 [==============================] - 24s 17ms/step - loss: 1.5433 - accuracy: 0.4866 - val_loss: 1.4996 - val_accuracy: 0.5055\n",
      "Epoch 18/100\n",
      "1388/1389 [============================>.] - ETA: 0s - loss: 1.5297 - accuracy: 0.4910\n",
      "Epoch 18: val_accuracy improved from 0.50600 to 0.50890, saving model to cifar10.best.hdf5\n",
      "1389/1389 [==============================] - 26s 18ms/step - loss: 1.5296 - accuracy: 0.4911 - val_loss: 1.4804 - val_accuracy: 0.5089\n",
      "Epoch 19/100\n",
      "1387/1389 [============================>.] - ETA: 0s - loss: 1.5169 - accuracy: 0.4969\n",
      "Epoch 19: val_accuracy did not improve from 0.50890\n",
      "1389/1389 [==============================] - 25s 18ms/step - loss: 1.5168 - accuracy: 0.4969 - val_loss: 1.4855 - val_accuracy: 0.5080\n",
      "Epoch 20/100\n",
      "1388/1389 [============================>.] - ETA: 0s - loss: 1.5087 - accuracy: 0.4980\n",
      "Epoch 20: val_accuracy did not improve from 0.50890\n",
      "1389/1389 [==============================] - 25s 18ms/step - loss: 1.5087 - accuracy: 0.4980 - val_loss: 1.4875 - val_accuracy: 0.5080\n",
      "Epoch 21/100\n",
      "1389/1389 [==============================] - ETA: 0s - loss: 1.4997 - accuracy: 0.5011\n",
      "Epoch 21: val_accuracy improved from 0.50890 to 0.51650, saving model to cifar10.best.hdf5\n",
      "1389/1389 [==============================] - 24s 17ms/step - loss: 1.4997 - accuracy: 0.5011 - val_loss: 1.4720 - val_accuracy: 0.5165\n",
      "Epoch 22/100\n",
      "1387/1389 [============================>.] - ETA: 0s - loss: 1.4881 - accuracy: 0.5077\n",
      "Epoch 22: val_accuracy improved from 0.51650 to 0.52350, saving model to cifar10.best.hdf5\n",
      "1389/1389 [==============================] - 26s 19ms/step - loss: 1.4879 - accuracy: 0.5078 - val_loss: 1.4449 - val_accuracy: 0.5235\n",
      "Epoch 23/100\n",
      "1388/1389 [============================>.] - ETA: 0s - loss: 1.4815 - accuracy: 0.5073\n",
      "Epoch 23: val_accuracy did not improve from 0.52350\n",
      "1389/1389 [==============================] - 25s 18ms/step - loss: 1.4816 - accuracy: 0.5072 - val_loss: 1.4708 - val_accuracy: 0.5133\n",
      "Epoch 24/100\n",
      "1389/1389 [==============================] - ETA: 0s - loss: 1.4719 - accuracy: 0.5105\n",
      "Epoch 24: val_accuracy did not improve from 0.52350\n",
      "1389/1389 [==============================] - 25s 18ms/step - loss: 1.4719 - accuracy: 0.5105 - val_loss: 1.4597 - val_accuracy: 0.5227\n",
      "Epoch 25/100\n",
      "1388/1389 [============================>.] - ETA: 0s - loss: 1.4649 - accuracy: 0.5133\n",
      "Epoch 25: val_accuracy improved from 0.52350 to 0.52470, saving model to cifar10.best.hdf5\n",
      "1389/1389 [==============================] - 25s 18ms/step - loss: 1.4649 - accuracy: 0.5133 - val_loss: 1.4387 - val_accuracy: 0.5247\n",
      "Epoch 26/100\n",
      "1386/1389 [============================>.] - ETA: 0s - loss: 1.4512 - accuracy: 0.5199\n",
      "Epoch 26: val_accuracy did not improve from 0.52470\n",
      "1389/1389 [==============================] - 24s 18ms/step - loss: 1.4511 - accuracy: 0.5198 - val_loss: 1.4522 - val_accuracy: 0.5134\n",
      "Epoch 27/100\n",
      "1389/1389 [==============================] - ETA: 0s - loss: 1.4500 - accuracy: 0.5192\n",
      "Epoch 27: val_accuracy improved from 0.52470 to 0.52760, saving model to cifar10.best.hdf5\n",
      "1389/1389 [==============================] - 26s 18ms/step - loss: 1.4500 - accuracy: 0.5192 - val_loss: 1.4381 - val_accuracy: 0.5276\n",
      "Epoch 28/100\n",
      "1389/1389 [==============================] - ETA: 0s - loss: 1.4382 - accuracy: 0.5226\n",
      "Epoch 28: val_accuracy did not improve from 0.52760\n",
      "1389/1389 [==============================] - 25s 18ms/step - loss: 1.4382 - accuracy: 0.5226 - val_loss: 1.4383 - val_accuracy: 0.5276\n",
      "Epoch 29/100\n",
      "1388/1389 [============================>.] - ETA: 0s - loss: 1.4295 - accuracy: 0.5248\n",
      "Epoch 29: val_accuracy improved from 0.52760 to 0.53730, saving model to cifar10.best.hdf5\n",
      "1389/1389 [==============================] - 25s 18ms/step - loss: 1.4295 - accuracy: 0.5248 - val_loss: 1.4145 - val_accuracy: 0.5373\n",
      "Epoch 30/100\n",
      "1389/1389 [==============================] - ETA: 0s - loss: 1.4230 - accuracy: 0.5309\n",
      "Epoch 30: val_accuracy did not improve from 0.53730\n",
      "1389/1389 [==============================] - 25s 18ms/step - loss: 1.4230 - accuracy: 0.5309 - val_loss: 1.4301 - val_accuracy: 0.5219\n",
      "Epoch 31/100\n",
      "1389/1389 [==============================] - ETA: 0s - loss: 1.4143 - accuracy: 0.5304\n",
      "Epoch 31: val_accuracy did not improve from 0.53730\n",
      "1389/1389 [==============================] - 24s 18ms/step - loss: 1.4143 - accuracy: 0.5304 - val_loss: 1.4117 - val_accuracy: 0.5358\n",
      "Epoch 32/100\n",
      "1386/1389 [============================>.] - ETA: 0s - loss: 1.4060 - accuracy: 0.5336\n",
      "Epoch 32: val_accuracy did not improve from 0.53730\n",
      "1389/1389 [==============================] - 24s 17ms/step - loss: 1.4062 - accuracy: 0.5335 - val_loss: 1.4320 - val_accuracy: 0.5306\n",
      "Epoch 33/100\n",
      "1389/1389 [==============================] - ETA: 0s - loss: 1.3971 - accuracy: 0.5355\n",
      "Epoch 33: val_accuracy did not improve from 0.53730\n",
      "1389/1389 [==============================] - 26s 19ms/step - loss: 1.3971 - accuracy: 0.5355 - val_loss: 1.4103 - val_accuracy: 0.5356\n",
      "Epoch 34/100\n",
      "1387/1389 [============================>.] - ETA: 0s - loss: 1.3916 - accuracy: 0.5388\n",
      "Epoch 34: val_accuracy did not improve from 0.53730\n",
      "1389/1389 [==============================] - 26s 19ms/step - loss: 1.3915 - accuracy: 0.5388 - val_loss: 1.4427 - val_accuracy: 0.5271\n",
      "Epoch 35/100\n",
      "1387/1389 [============================>.] - ETA: 0s - loss: 1.3873 - accuracy: 0.5422\n",
      "Epoch 35: val_accuracy did not improve from 0.53730\n",
      "1389/1389 [==============================] - 25s 18ms/step - loss: 1.3873 - accuracy: 0.5422 - val_loss: 1.4181 - val_accuracy: 0.5324\n",
      "Epoch 36/100\n",
      "1387/1389 [============================>.] - ETA: 0s - loss: 1.3795 - accuracy: 0.5453\n",
      "Epoch 36: val_accuracy did not improve from 0.53730\n",
      "1389/1389 [==============================] - 25s 18ms/step - loss: 1.3794 - accuracy: 0.5453 - val_loss: 1.4136 - val_accuracy: 0.5347\n",
      "Epoch 37/100\n",
      "1386/1389 [============================>.] - ETA: 0s - loss: 1.3718 - accuracy: 0.5435\n",
      "Epoch 37: val_accuracy did not improve from 0.53730\n",
      "1389/1389 [==============================] - 24s 18ms/step - loss: 1.3720 - accuracy: 0.5433 - val_loss: 1.4007 - val_accuracy: 0.5338\n",
      "Epoch 38/100\n",
      "1389/1389 [==============================] - ETA: 0s - loss: 1.3660 - accuracy: 0.5462\n",
      "Epoch 38: val_accuracy did not improve from 0.53730\n",
      "1389/1389 [==============================] - 27s 19ms/step - loss: 1.3660 - accuracy: 0.5462 - val_loss: 1.4064 - val_accuracy: 0.5351\n",
      "Epoch 39/100\n",
      "1389/1389 [==============================] - ETA: 0s - loss: 1.3586 - accuracy: 0.5495\n",
      "Epoch 39: val_accuracy did not improve from 0.53730\n",
      "1389/1389 [==============================] - 25s 18ms/step - loss: 1.3586 - accuracy: 0.5495 - val_loss: 1.4042 - val_accuracy: 0.5371\n",
      "Epoch 40/100\n",
      "1388/1389 [============================>.] - ETA: 0s - loss: 1.3490 - accuracy: 0.5553\n",
      "Epoch 40: val_accuracy improved from 0.53730 to 0.53970, saving model to cifar10.best.hdf5\n",
      "1389/1389 [==============================] - 27s 19ms/step - loss: 1.3489 - accuracy: 0.5553 - val_loss: 1.4138 - val_accuracy: 0.5397\n",
      "Epoch 41/100\n",
      "1389/1389 [==============================] - ETA: 0s - loss: 1.3517 - accuracy: 0.5523\n",
      "Epoch 41: val_accuracy improved from 0.53970 to 0.54230, saving model to cifar10.best.hdf5\n",
      "1389/1389 [==============================] - 25s 18ms/step - loss: 1.3517 - accuracy: 0.5523 - val_loss: 1.3975 - val_accuracy: 0.5423\n",
      "Epoch 42/100\n",
      "1389/1389 [==============================] - ETA: 0s - loss: 1.3416 - accuracy: 0.5569\n",
      "Epoch 42: val_accuracy improved from 0.54230 to 0.54510, saving model to cifar10.best.hdf5\n",
      "1389/1389 [==============================] - 25s 18ms/step - loss: 1.3416 - accuracy: 0.5569 - val_loss: 1.3885 - val_accuracy: 0.5451\n",
      "Epoch 43/100\n",
      "1389/1389 [==============================] - ETA: 0s - loss: 1.3357 - accuracy: 0.5578\n",
      "Epoch 43: val_accuracy did not improve from 0.54510\n",
      "1389/1389 [==============================] - 25s 18ms/step - loss: 1.3357 - accuracy: 0.5578 - val_loss: 1.3891 - val_accuracy: 0.5429\n",
      "Epoch 44/100\n",
      "1387/1389 [============================>.] - ETA: 0s - loss: 1.3326 - accuracy: 0.5607\n",
      "Epoch 44: val_accuracy improved from 0.54510 to 0.54750, saving model to cifar10.best.hdf5\n",
      "1389/1389 [==============================] - 26s 18ms/step - loss: 1.3329 - accuracy: 0.5604 - val_loss: 1.3789 - val_accuracy: 0.5475\n",
      "Epoch 45/100\n",
      "1389/1389 [==============================] - ETA: 0s - loss: 1.3269 - accuracy: 0.5613\n",
      "Epoch 45: val_accuracy improved from 0.54750 to 0.55180, saving model to cifar10.best.hdf5\n",
      "1389/1389 [==============================] - 25s 18ms/step - loss: 1.3269 - accuracy: 0.5613 - val_loss: 1.3719 - val_accuracy: 0.5518\n",
      "Epoch 46/100\n",
      "1387/1389 [============================>.] - ETA: 0s - loss: 1.3175 - accuracy: 0.5639\n",
      "Epoch 46: val_accuracy improved from 0.55180 to 0.55600, saving model to cifar10.best.hdf5\n",
      "1389/1389 [==============================] - 25s 18ms/step - loss: 1.3174 - accuracy: 0.5638 - val_loss: 1.3720 - val_accuracy: 0.5560\n",
      "Epoch 47/100\n",
      "1387/1389 [============================>.] - ETA: 0s - loss: 1.3139 - accuracy: 0.5645\n",
      "Epoch 47: val_accuracy did not improve from 0.55600\n",
      "1389/1389 [==============================] - 25s 18ms/step - loss: 1.3141 - accuracy: 0.5645 - val_loss: 1.4032 - val_accuracy: 0.5427\n",
      "Epoch 48/100\n",
      "1389/1389 [==============================] - ETA: 0s - loss: 1.3079 - accuracy: 0.5665\n",
      "Epoch 48: val_accuracy did not improve from 0.55600\n",
      "1389/1389 [==============================] - 26s 19ms/step - loss: 1.3079 - accuracy: 0.5665 - val_loss: 1.3752 - val_accuracy: 0.5435\n",
      "Epoch 49/100\n",
      "1388/1389 [============================>.] - ETA: 0s - loss: 1.3054 - accuracy: 0.5700\n",
      "Epoch 49: val_accuracy did not improve from 0.55600\n",
      "1389/1389 [==============================] - 24s 18ms/step - loss: 1.3054 - accuracy: 0.5701 - val_loss: 1.3648 - val_accuracy: 0.5525\n",
      "Epoch 50/100\n",
      "1387/1389 [============================>.] - ETA: 0s - loss: 1.3001 - accuracy: 0.5692\n",
      "Epoch 50: val_accuracy did not improve from 0.55600\n",
      "1389/1389 [==============================] - 26s 18ms/step - loss: 1.3002 - accuracy: 0.5691 - val_loss: 1.3935 - val_accuracy: 0.5397\n",
      "Epoch 51/100\n",
      "1387/1389 [============================>.] - ETA: 0s - loss: 1.2940 - accuracy: 0.5738\n",
      "Epoch 51: val_accuracy did not improve from 0.55600\n",
      "1389/1389 [==============================] - 27s 19ms/step - loss: 1.2938 - accuracy: 0.5739 - val_loss: 1.3641 - val_accuracy: 0.5540\n",
      "Epoch 52/100\n",
      "1389/1389 [==============================] - ETA: 0s - loss: 1.2836 - accuracy: 0.5750\n",
      "Epoch 52: val_accuracy did not improve from 0.55600\n",
      "1389/1389 [==============================] - 27s 20ms/step - loss: 1.2836 - accuracy: 0.5750 - val_loss: 1.4209 - val_accuracy: 0.5335\n",
      "Epoch 53/100\n",
      "1389/1389 [==============================] - ETA: 0s - loss: 1.2858 - accuracy: 0.5790\n",
      "Epoch 53: val_accuracy did not improve from 0.55600\n",
      "1389/1389 [==============================] - 27s 19ms/step - loss: 1.2858 - accuracy: 0.5790 - val_loss: 1.3567 - val_accuracy: 0.5557\n",
      "Epoch 54/100\n",
      "1389/1389 [==============================] - ETA: 0s - loss: 1.2767 - accuracy: 0.5787\n",
      "Epoch 54: val_accuracy did not improve from 0.55600\n",
      "1389/1389 [==============================] - 25s 18ms/step - loss: 1.2767 - accuracy: 0.5787 - val_loss: 1.3709 - val_accuracy: 0.5503\n",
      "Epoch 55/100\n",
      "1388/1389 [============================>.] - ETA: 0s - loss: 1.2709 - accuracy: 0.5800\n",
      "Epoch 55: val_accuracy improved from 0.55600 to 0.55910, saving model to cifar10.best.hdf5\n",
      "1389/1389 [==============================] - 25s 18ms/step - loss: 1.2710 - accuracy: 0.5799 - val_loss: 1.3547 - val_accuracy: 0.5591\n",
      "Epoch 56/100\n",
      "1387/1389 [============================>.] - ETA: 0s - loss: 1.2655 - accuracy: 0.5815\n",
      "Epoch 56: val_accuracy did not improve from 0.55910\n",
      "1389/1389 [==============================] - 24s 17ms/step - loss: 1.2656 - accuracy: 0.5814 - val_loss: 1.3671 - val_accuracy: 0.5547\n",
      "Epoch 57/100\n",
      "1387/1389 [============================>.] - ETA: 0s - loss: 1.2593 - accuracy: 0.5826\n",
      "Epoch 57: val_accuracy did not improve from 0.55910\n",
      "1389/1389 [==============================] - 25s 18ms/step - loss: 1.2595 - accuracy: 0.5825 - val_loss: 1.3865 - val_accuracy: 0.5482\n",
      "Epoch 58/100\n",
      "1388/1389 [============================>.] - ETA: 0s - loss: 1.2569 - accuracy: 0.5857\n",
      "Epoch 58: val_accuracy did not improve from 0.55910\n",
      "1389/1389 [==============================] - 25s 18ms/step - loss: 1.2570 - accuracy: 0.5857 - val_loss: 1.3676 - val_accuracy: 0.5483\n",
      "Epoch 59/100\n",
      "1388/1389 [============================>.] - ETA: 0s - loss: 1.2519 - accuracy: 0.5880\n",
      "Epoch 59: val_accuracy did not improve from 0.55910\n",
      "1389/1389 [==============================] - 26s 19ms/step - loss: 1.2520 - accuracy: 0.5880 - val_loss: 1.3793 - val_accuracy: 0.5479\n",
      "Epoch 60/100\n",
      "1388/1389 [============================>.] - ETA: 0s - loss: 1.2497 - accuracy: 0.5877\n",
      "Epoch 60: val_accuracy did not improve from 0.55910\n",
      "1389/1389 [==============================] - 29s 21ms/step - loss: 1.2496 - accuracy: 0.5877 - val_loss: 1.3733 - val_accuracy: 0.5418\n"
     ]
    }
   ],
   "source": [
    "print('Starting training...')\n",
    "\n",
    "history = model.fit(x_train_flattened,\n",
    "                    y_train,\n",
    "                    validation_data = (x_test_flattened, y_test),\n",
    "                    epochs = 100,\n",
    "                    batch_size = 36,\n",
    "                    callbacks = callbacks_list,\n",
    "                    verbose = 1)"
   ]
  },
  {
   "cell_type": "code",
   "execution_count": null,
   "metadata": {
    "colab": {
     "base_uri": "https://localhost:8080/"
    },
    "id": "v082cPjSNJk5",
    "outputId": "ce271725-3f64-4fc6-9796-a04d08b8dea2"
   },
   "outputs": [
    {
     "name": "stdout",
     "output_type": "stream",
     "text": [
      "Test loss: 1.3547301292419434\n",
      "Test accuracy: 0.5590999722480774\n"
     ]
    }
   ],
   "source": [
    "loss, accuracy = model.evaluate(x_test_flattened, y_test, verbose=0)\n",
    "print('Test loss:', loss)\n",
    "print('Test accuracy:', accuracy)"
   ]
  },
  {
   "cell_type": "code",
   "execution_count": null,
   "metadata": {
    "id": "lc7bhUUBNJo4"
   },
   "outputs": [],
   "source": [
    "def plot_metric(history, metric, metric_name):\n",
    "    train_metric = history.history[metric]\n",
    "    test_metric = history.history['val_' + metric]\n",
    "    x = list(range(1, len(test_metric) + 1))\n",
    "    plt.plot(x, test_metric, color='red', label='test ' + metric_name)\n",
    "    plt.plot(x, train_metric, label='training ' + metric_name)\n",
    "    plt.xlabel('Epoch')\n",
    "    plt.ylabel(metric_name.capitalize())\n",
    "    plt.title(metric_name.capitalize() + ' vs. Epoch')\n",
    "    plt.legend()"
   ]
  },
  {
   "cell_type": "code",
   "execution_count": null,
   "metadata": {
    "colab": {
     "base_uri": "https://localhost:8080/",
     "height": 472
    },
    "id": "sVa_73sQNJuy",
    "outputId": "524a1d00-7050-40b5-9340-47b78787e55d"
   },
   "outputs": [
    {
     "data": {
      "image/png": "[encoded data removed]",
      "text/plain": [
       "<Figure size 640x480 with 1 Axes>"
      ]
     },
     "metadata": {},
     "output_type": "display_data"
    }
   ],
   "source": [
    "plot_metric(history, 'loss', 'loss')"
   ]
  },
  {
   "cell_type": "code",
   "execution_count": null,
   "metadata": {
    "colab": {
     "base_uri": "https://localhost:8080/",
     "height": 472
    },
    "id": "-t6n8fFNNJxo",
    "outputId": "22c42630-3d15-49e2-cdce-788a36c1dde9"
   },
   "outputs": [
    {
     "data": {
      "image/png": "[encoded data removed]",
      "text/plain": [
       "<Figure size 640x480 with 1 Axes>"
      ]
     },
     "metadata": {},
     "output_type": "display_data"
    }
   ],
   "source": [
    "plot_metric(history, 'accuracy', 'accuracy')"
   ]
  },
  {
   "cell_type": "code",
   "execution_count": null,
   "metadata": {
    "colab": {
     "base_uri": "https://localhost:8080/"
    },
    "id": "qJ6ebr9r9z8Z",
    "outputId": "0228eef3-d497-43e7-ca0d-58f04d1a06fb"
   },
   "outputs": [
    {
     "name": "stdout",
     "output_type": "stream",
     "text": [
      "accuracy: 55.91%\n"
     ]
    }
   ],
   "source": [
    "print(\"%s: %.2f%%\" % (model.metrics_names[1], accuracy * 100))"
   ]
  }
 ],
 "metadata": {
  "accelerator": "TPU",
  "colab": {
   "provenance": []
  },
  "kernelspec": {
   "display_name": "Python 3",
   "name": "python3"
  },
  "language_info": {
   "name": "python"
  }
 },
 "nbformat": 4,
 "nbformat_minor": 0
}
